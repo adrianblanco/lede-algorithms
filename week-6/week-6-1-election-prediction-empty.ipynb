{
 "cells": [
  {
   "cell_type": "markdown",
   "metadata": {},
   "source": [
    "# Week 6-1: Election Prediction through simulation\n",
    "\n",
    "This is the first of two classes on election prediction. We'll be using simulation throughout to build our model.\n",
    "\n",
    "All data is downloaded from [Huffington Post Pollster](http://elections.huffingtonpost.com/pollster#historical-charts)\n",
    "\n",
    "Further references for your enjoyment:\n",
    "\n",
    "- [The Real Story of 2016](https://fivethirtyeight.com/features/the-real-story-of-2016/) - Fivethirtyeight\n",
    "- Buzzfeed's post-election [forecast grades](https://www.buzzfeednews.com/article/jsvine/2016-election-forecast-grades)\n",
    "- [Putting the Polling Miss of the 2016 Election in Perspective](https://www.nytimes.com/interactive/2016/11/13/upshot/putting-the-polling-miss-of-2016-in-perspective.html) - The Upshot\n",
    "- [After 2016, Can We Ever Trust the Polls Again?](https://newrepublic.com/article/139158/2016-can-ever-trust-polls-again) - The New Republic \n",
    "\n",
    "And finally, the single biggest reason that the simple election prediction model in this file misses so badly (predicting Clinton's chances in the high 90s): it does not take into account the [correlations between polling errors](https://www.quantamagazine.org/why-nate-silver-sam-wang-and-everyone-else-were-wrong-part-2-20161111/) in different states. If we fix this one factor, even our simple model will give Trump substantially higher chances.\n",
    "\n",
    "To see what goes into a much more realistic election model, check out this [notebook recreation of 538's 2012 model](http://nbviewer.jupyter.org/github/jseabold/538model/blob/master/silver_model.ipynb) by by Skipper Seabold."
   ]
  },
  {
   "cell_type": "markdown",
   "metadata": {},
   "source": [
    "## Part 1: Simulating one poll\n",
    "\n",
    "Here we'll produce simulated election outcomes from a single poll. We are uncritically taking the poll results as an unbiased inidicator of results. This assumes that the people who are polled (\"likely voters\") are a good representation of the people who actually vote. It is possible to adjust these sorts of factors later, but let's begin with the basics."
   ]
  },
  {
   "cell_type": "code",
   "execution_count": 1,
   "metadata": {
    "collapsed": true
   },
   "outputs": [],
   "source": [
    "import math\n",
    "import pandas as pd\n",
    "import numpy as np\n",
    "import matplotlib.pyplot as plt\n",
    "%matplotlib inline"
   ]
  },
  {
   "cell_type": "code",
   "execution_count": 2,
   "metadata": {
    "collapsed": true
   },
   "outputs": [],
   "source": [
    "# Set a random seed so this whole notebook becomes deterministic (for teaching purposes)\n",
    "np.random.seed(999)"
   ]
  },
  {
   "cell_type": "code",
   "execution_count": 3,
   "metadata": {},
   "outputs": [
    {
     "data": {
      "text/html": [
       "<div>\n",
       "<style>\n",
       "    .dataframe thead tr:only-child th {\n",
       "        text-align: right;\n",
       "    }\n",
       "\n",
       "    .dataframe thead th {\n",
       "        text-align: left;\n",
       "    }\n",
       "\n",
       "    .dataframe tbody tr th {\n",
       "        vertical-align: top;\n",
       "    }\n",
       "</style>\n",
       "<table border=\"1\" class=\"dataframe\">\n",
       "  <thead>\n",
       "    <tr style=\"text-align: right;\">\n",
       "      <th></th>\n",
       "      <th>Trump</th>\n",
       "      <th>Clinton</th>\n",
       "      <th>Johnson</th>\n",
       "      <th>Other</th>\n",
       "      <th>Undecided</th>\n",
       "      <th>poll_slug</th>\n",
       "      <th>survey_house</th>\n",
       "      <th>start_date</th>\n",
       "      <th>end_date</th>\n",
       "      <th>question_text</th>\n",
       "      <th>sample_subpopulation</th>\n",
       "      <th>observations</th>\n",
       "      <th>margin_of_error</th>\n",
       "      <th>mode</th>\n",
       "      <th>partisanship</th>\n",
       "      <th>partisan_affiliation</th>\n",
       "    </tr>\n",
       "  </thead>\n",
       "  <tbody>\n",
       "    <tr>\n",
       "      <th>0</th>\n",
       "      <td>41.0</td>\n",
       "      <td>45.0</td>\n",
       "      <td>4.0</td>\n",
       "      <td>2.0</td>\n",
       "      <td>8.0</td>\n",
       "      <td>insights-west-26812</td>\n",
       "      <td>Insights West</td>\n",
       "      <td>2016-11-04</td>\n",
       "      <td>2016-11-07</td>\n",
       "      <td>As you may know, there will be a presidential ...</td>\n",
       "      <td>Likely Voters</td>\n",
       "      <td>940.0</td>\n",
       "      <td>3.2</td>\n",
       "      <td>Internet</td>\n",
       "      <td>Nonpartisan</td>\n",
       "      <td>None</td>\n",
       "    </tr>\n",
       "    <tr>\n",
       "      <th>1</th>\n",
       "      <td>6.0</td>\n",
       "      <td>89.0</td>\n",
       "      <td>1.0</td>\n",
       "      <td>0.0</td>\n",
       "      <td>4.0</td>\n",
       "      <td>insights-west-26812</td>\n",
       "      <td>Insights West</td>\n",
       "      <td>2016-11-04</td>\n",
       "      <td>2016-11-07</td>\n",
       "      <td>As you may know, there will be a presidential ...</td>\n",
       "      <td>Likely Voters - Democrat</td>\n",
       "      <td>NaN</td>\n",
       "      <td>NaN</td>\n",
       "      <td>Internet</td>\n",
       "      <td>Nonpartisan</td>\n",
       "      <td>None</td>\n",
       "    </tr>\n",
       "    <tr>\n",
       "      <th>2</th>\n",
       "      <td>82.0</td>\n",
       "      <td>7.0</td>\n",
       "      <td>3.0</td>\n",
       "      <td>2.0</td>\n",
       "      <td>6.0</td>\n",
       "      <td>insights-west-26812</td>\n",
       "      <td>Insights West</td>\n",
       "      <td>2016-11-04</td>\n",
       "      <td>2016-11-07</td>\n",
       "      <td>As you may know, there will be a presidential ...</td>\n",
       "      <td>Likely Voters - Republican</td>\n",
       "      <td>NaN</td>\n",
       "      <td>NaN</td>\n",
       "      <td>Internet</td>\n",
       "      <td>Nonpartisan</td>\n",
       "      <td>None</td>\n",
       "    </tr>\n",
       "    <tr>\n",
       "      <th>3</th>\n",
       "      <td>38.0</td>\n",
       "      <td>43.0</td>\n",
       "      <td>8.0</td>\n",
       "      <td>4.0</td>\n",
       "      <td>7.0</td>\n",
       "      <td>insights-west-26812</td>\n",
       "      <td>Insights West</td>\n",
       "      <td>2016-11-04</td>\n",
       "      <td>2016-11-07</td>\n",
       "      <td>As you may know, there will be a presidential ...</td>\n",
       "      <td>Likely Voters - independent</td>\n",
       "      <td>NaN</td>\n",
       "      <td>NaN</td>\n",
       "      <td>Internet</td>\n",
       "      <td>Nonpartisan</td>\n",
       "      <td>None</td>\n",
       "    </tr>\n",
       "    <tr>\n",
       "      <th>4</th>\n",
       "      <td>43.0</td>\n",
       "      <td>41.0</td>\n",
       "      <td>7.0</td>\n",
       "      <td>4.0</td>\n",
       "      <td>5.0</td>\n",
       "      <td>ibd-tipp-26811</td>\n",
       "      <td>IBD/TIPP</td>\n",
       "      <td>2016-11-04</td>\n",
       "      <td>2016-11-07</td>\n",
       "      <td>NaN</td>\n",
       "      <td>Likely Voters</td>\n",
       "      <td>1107.0</td>\n",
       "      <td>3.1</td>\n",
       "      <td>Live Phone</td>\n",
       "      <td>Nonpartisan</td>\n",
       "      <td>None</td>\n",
       "    </tr>\n",
       "  </tbody>\n",
       "</table>\n",
       "</div>"
      ],
      "text/plain": [
       "   Trump  Clinton  Johnson  Other  Undecided            poll_slug  \\\n",
       "0   41.0     45.0      4.0    2.0        8.0  insights-west-26812   \n",
       "1    6.0     89.0      1.0    0.0        4.0  insights-west-26812   \n",
       "2   82.0      7.0      3.0    2.0        6.0  insights-west-26812   \n",
       "3   38.0     43.0      8.0    4.0        7.0  insights-west-26812   \n",
       "4   43.0     41.0      7.0    4.0        5.0       ibd-tipp-26811   \n",
       "\n",
       "    survey_house  start_date    end_date  \\\n",
       "0  Insights West  2016-11-04  2016-11-07   \n",
       "1  Insights West  2016-11-04  2016-11-07   \n",
       "2  Insights West  2016-11-04  2016-11-07   \n",
       "3  Insights West  2016-11-04  2016-11-07   \n",
       "4       IBD/TIPP  2016-11-04  2016-11-07   \n",
       "\n",
       "                                       question_text  \\\n",
       "0  As you may know, there will be a presidential ...   \n",
       "1  As you may know, there will be a presidential ...   \n",
       "2  As you may know, there will be a presidential ...   \n",
       "3  As you may know, there will be a presidential ...   \n",
       "4                                                NaN   \n",
       "\n",
       "          sample_subpopulation  observations  margin_of_error        mode  \\\n",
       "0                Likely Voters         940.0              3.2    Internet   \n",
       "1     Likely Voters - Democrat           NaN              NaN    Internet   \n",
       "2   Likely Voters - Republican           NaN              NaN    Internet   \n",
       "3  Likely Voters - independent           NaN              NaN    Internet   \n",
       "4                Likely Voters        1107.0              3.1  Live Phone   \n",
       "\n",
       "  partisanship partisan_affiliation  \n",
       "0  Nonpartisan                 None  \n",
       "1  Nonpartisan                 None  \n",
       "2  Nonpartisan                 None  \n",
       "3  Nonpartisan                 None  \n",
       "4  Nonpartisan                 None  "
      ]
     },
     "execution_count": 3,
     "metadata": {},
     "output_type": "execute_result"
    }
   ],
   "source": [
    "# Load national polling data. It's a TSV file, so we have to tell read_csv it's separated by tabs\n",
    "uspolls = pd.read_csv('data/US.tsv', sep='\\t')\n",
    "uspolls.head()"
   ]
  },
  {
   "cell_type": "code",
   "execution_count": 4,
   "metadata": {},
   "outputs": [
    {
     "data": {
      "text/plain": [
       "513"
      ]
     },
     "execution_count": 4,
     "metadata": {},
     "output_type": "execute_result"
    }
   ],
   "source": [
    "# keep only polls of \"likely voters\" (as opposed to registered voters, or republicans/democracts)\n",
    "uspolls = uspolls[uspolls.sample_subpopulation == 'Likely Voters']\n",
    "len(uspolls)"
   ]
  },
  {
   "cell_type": "code",
   "execution_count": 5,
   "metadata": {},
   "outputs": [
    {
     "data": {
      "text/plain": [
       "388"
      ]
     },
     "execution_count": 5,
     "metadata": {},
     "output_type": "execute_result"
    }
   ],
   "source": [
    "# We need a margin of error to do our simulation, so drop any rows that don't have it\n",
    "uspolls=uspolls[~pd.isnull(uspolls.margin_of_error)].reset_index(drop=True)\n",
    "len(uspolls)"
   ]
  },
  {
   "cell_type": "markdown",
   "metadata": {},
   "source": [
    "There are lot of polls here! Let's pick just one, near the end of the polling period (just before the election) and look at the outcomes it implies."
   ]
  },
  {
   "cell_type": "code",
   "execution_count": 6,
   "metadata": {},
   "outputs": [
    {
     "data": {
      "text/html": [
       "<div>\n",
       "<style>\n",
       "    .dataframe thead tr:only-child th {\n",
       "        text-align: right;\n",
       "    }\n",
       "\n",
       "    .dataframe thead th {\n",
       "        text-align: left;\n",
       "    }\n",
       "\n",
       "    .dataframe tbody tr th {\n",
       "        vertical-align: top;\n",
       "    }\n",
       "</style>\n",
       "<table border=\"1\" class=\"dataframe\">\n",
       "  <thead>\n",
       "    <tr style=\"text-align: right;\">\n",
       "      <th></th>\n",
       "      <th>Trump</th>\n",
       "      <th>Clinton</th>\n",
       "      <th>Johnson</th>\n",
       "      <th>Other</th>\n",
       "      <th>Undecided</th>\n",
       "      <th>poll_slug</th>\n",
       "      <th>survey_house</th>\n",
       "      <th>start_date</th>\n",
       "      <th>end_date</th>\n",
       "      <th>question_text</th>\n",
       "      <th>sample_subpopulation</th>\n",
       "      <th>observations</th>\n",
       "      <th>margin_of_error</th>\n",
       "      <th>mode</th>\n",
       "      <th>partisanship</th>\n",
       "      <th>partisan_affiliation</th>\n",
       "    </tr>\n",
       "  </thead>\n",
       "  <tbody>\n",
       "    <tr>\n",
       "      <th>383</th>\n",
       "      <td>47.0</td>\n",
       "      <td>43.0</td>\n",
       "      <td>NaN</td>\n",
       "      <td>NaN</td>\n",
       "      <td>11.0</td>\n",
       "      <td>emerson-college-polling-society-22699</td>\n",
       "      <td>Emerson College Polling Society</td>\n",
       "      <td>2015-09-05</td>\n",
       "      <td>2015-09-08</td>\n",
       "      <td>NaN</td>\n",
       "      <td>Likely Voters</td>\n",
       "      <td>955.0</td>\n",
       "      <td>3.1</td>\n",
       "      <td>Automated Phone</td>\n",
       "      <td>Nonpartisan</td>\n",
       "      <td>None</td>\n",
       "    </tr>\n",
       "    <tr>\n",
       "      <th>384</th>\n",
       "      <td>44.0</td>\n",
       "      <td>46.0</td>\n",
       "      <td>NaN</td>\n",
       "      <td>NaN</td>\n",
       "      <td>11.0</td>\n",
       "      <td>ppp-d-22654</td>\n",
       "      <td>PPP (D)</td>\n",
       "      <td>2015-08-28</td>\n",
       "      <td>2015-08-30</td>\n",
       "      <td>NaN</td>\n",
       "      <td>Likely Voters</td>\n",
       "      <td>1254.0</td>\n",
       "      <td>2.8</td>\n",
       "      <td>IVR/Online</td>\n",
       "      <td>Pollster</td>\n",
       "      <td>Dem</td>\n",
       "    </tr>\n",
       "    <tr>\n",
       "      <th>385</th>\n",
       "      <td>40.0</td>\n",
       "      <td>49.0</td>\n",
       "      <td>NaN</td>\n",
       "      <td>NaN</td>\n",
       "      <td>12.0</td>\n",
       "      <td>emerson-college-polling-society-22537</td>\n",
       "      <td>Emerson College Polling Society</td>\n",
       "      <td>2015-07-26</td>\n",
       "      <td>2015-07-28</td>\n",
       "      <td>NaN</td>\n",
       "      <td>Likely Voters</td>\n",
       "      <td>950.0</td>\n",
       "      <td>3.4</td>\n",
       "      <td>Automated Phone</td>\n",
       "      <td>Nonpartisan</td>\n",
       "      <td>None</td>\n",
       "    </tr>\n",
       "    <tr>\n",
       "      <th>386</th>\n",
       "      <td>37.0</td>\n",
       "      <td>50.0</td>\n",
       "      <td>NaN</td>\n",
       "      <td>NaN</td>\n",
       "      <td>13.0</td>\n",
       "      <td>ppp-d-22415</td>\n",
       "      <td>PPP (D)</td>\n",
       "      <td>2015-07-20</td>\n",
       "      <td>2015-07-21</td>\n",
       "      <td>NaN</td>\n",
       "      <td>Likely Voters</td>\n",
       "      <td>1087.0</td>\n",
       "      <td>3.0</td>\n",
       "      <td>IVR/Online</td>\n",
       "      <td>Pollster</td>\n",
       "      <td>Dem</td>\n",
       "    </tr>\n",
       "    <tr>\n",
       "      <th>387</th>\n",
       "      <td>34.0</td>\n",
       "      <td>51.0</td>\n",
       "      <td>NaN</td>\n",
       "      <td>NaN</td>\n",
       "      <td>16.0</td>\n",
       "      <td>suffolk-usa-today-22380</td>\n",
       "      <td>Suffolk/USA Today</td>\n",
       "      <td>2015-07-09</td>\n",
       "      <td>2015-07-12</td>\n",
       "      <td>NaN</td>\n",
       "      <td>Likely Voters</td>\n",
       "      <td>1000.0</td>\n",
       "      <td>3.0</td>\n",
       "      <td>Live Phone</td>\n",
       "      <td>Nonpartisan</td>\n",
       "      <td>None</td>\n",
       "    </tr>\n",
       "  </tbody>\n",
       "</table>\n",
       "</div>"
      ],
      "text/plain": [
       "     Trump  Clinton  Johnson  Other  Undecided  \\\n",
       "383   47.0     43.0      NaN    NaN       11.0   \n",
       "384   44.0     46.0      NaN    NaN       11.0   \n",
       "385   40.0     49.0      NaN    NaN       12.0   \n",
       "386   37.0     50.0      NaN    NaN       13.0   \n",
       "387   34.0     51.0      NaN    NaN       16.0   \n",
       "\n",
       "                                 poll_slug                     survey_house  \\\n",
       "383  emerson-college-polling-society-22699  Emerson College Polling Society   \n",
       "384                            ppp-d-22654                          PPP (D)   \n",
       "385  emerson-college-polling-society-22537  Emerson College Polling Society   \n",
       "386                            ppp-d-22415                          PPP (D)   \n",
       "387                suffolk-usa-today-22380                Suffolk/USA Today   \n",
       "\n",
       "     start_date    end_date question_text sample_subpopulation  observations  \\\n",
       "383  2015-09-05  2015-09-08           NaN        Likely Voters         955.0   \n",
       "384  2015-08-28  2015-08-30           NaN        Likely Voters        1254.0   \n",
       "385  2015-07-26  2015-07-28           NaN        Likely Voters         950.0   \n",
       "386  2015-07-20  2015-07-21           NaN        Likely Voters        1087.0   \n",
       "387  2015-07-09  2015-07-12           NaN        Likely Voters        1000.0   \n",
       "\n",
       "     margin_of_error             mode partisanship partisan_affiliation  \n",
       "383              3.1  Automated Phone  Nonpartisan                 None  \n",
       "384              2.8       IVR/Online     Pollster                  Dem  \n",
       "385              3.4  Automated Phone  Nonpartisan                 None  \n",
       "386              3.0       IVR/Online     Pollster                  Dem  \n",
       "387              3.0       Live Phone  Nonpartisan                 None  "
      ]
     },
     "execution_count": 6,
     "metadata": {},
     "output_type": "execute_result"
    }
   ],
   "source": [
    "uspolls.tail()"
   ]
  },
  {
   "cell_type": "markdown",
   "metadata": {},
   "source": [
    "We will pick a poll which showed a close race, because it better demonstrates how the margin of error works."
   ]
  },
  {
   "cell_type": "code",
   "execution_count": 7,
   "metadata": {},
   "outputs": [
    {
     "data": {
      "text/plain": [
       "Trump                              44\n",
       "Clinton                            46\n",
       "Johnson                           NaN\n",
       "Other                             NaN\n",
       "Undecided                          11\n",
       "poll_slug                 ppp-d-22654\n",
       "survey_house                  PPP (D)\n",
       "start_date                 2015-08-28\n",
       "end_date                   2015-08-30\n",
       "question_text                     NaN\n",
       "sample_subpopulation    Likely Voters\n",
       "observations                     1254\n",
       "margin_of_error                   2.8\n",
       "mode                       IVR/Online\n",
       "partisanship                 Pollster\n",
       "partisan_affiliation              Dem\n",
       "Name: 384, dtype: object"
      ]
     },
     "execution_count": 7,
     "metadata": {},
     "output_type": "execute_result"
    }
   ],
   "source": [
    "poll = uspolls.iloc[384]\n",
    "poll"
   ]
  },
  {
   "cell_type": "markdown",
   "metadata": {},
   "source": [
    "The poll results and the margin of error define a probability distribution of \"true\" survey results -- that is, the result that the pollster would get if they could ask every single \"likely voter\" in the country. This distribution is a \"normal\" distribution."
   ]
  },
  {
   "cell_type": "code",
   "execution_count": 8,
   "metadata": {
    "collapsed": true
   },
   "outputs": [],
   "source": [
    "# We reduce the problem to the difference between the two poll results, because that's what actually matters\n",
    "mean = 3\n",
    "\n",
    "# Some subtlety in calculating the stddev from the margin of error (MOE)\n",
    "#  - MOE is reported as 95% width, so we'd normally divide by 1.96 for standard deviation\n",
    "#  - But we want the stddev for a difference between two poll questions which are not independent.\n",
    "#    One more vote for Clinton is (almost always) one less vote for Trump. We need to multiply by nearly 2.\n",
    "#  - These almost perfectly cancel out, and stddev of the difference is near exactly MOE\n",
    "# See http://abcnews.go.com/images/PollingUnit/MOEFranklin.pdf\n",
    "stddev = poll.margin_of_error\n",
    "\n",
    "# For more general discussion of the MOE see \n",
    "# http://www.pewresearch.org/fact-tank/2016/09/08/understanding-the-margin-of-error-in-election-polls/\n"
   ]
  },
  {
   "cell_type": "markdown",
   "metadata": {},
   "source": [
    "Now we can take samples from a normal distribution with this mean and standard deviation, to simulate what the underlying \"true\" voting pattern would be. For example,"
   ]
  },
  {
   "cell_type": "code",
   "execution_count": 9,
   "metadata": {},
   "outputs": [
    {
     "data": {
      "text/plain": [
       "3.356041963171183"
      ]
     },
     "execution_count": 9,
     "metadata": {},
     "output_type": "execute_result"
    }
   ],
   "source": [
    "np.random.normal(mean, stddev)"
   ]
  },
  {
   "cell_type": "markdown",
   "metadata": {},
   "source": [
    "To interpret this number, recall that we're simulating the Clinton-Trump difference. So positive means it goes for Clinton, who our poll says is ahead 46-44. Given this, we would expect more of the simulation results to go for Clinton. Let's make 1000 and see what happens."
   ]
  },
  {
   "cell_type": "code",
   "execution_count": 10,
   "metadata": {},
   "outputs": [
    {
     "data": {
      "image/png": "[encoded data removed]",
      "text/plain": [
       "<Figure size 432x288 with 1 Axes>"
      ]
     },
     "metadata": {},
     "output_type": "display_data"
    }
   ],
   "source": [
    "plt.hist(np.random.normal(mean, stddev, 1000), bins=20);"
   ]
  },
  {
   "cell_type": "markdown",
   "metadata": {},
   "source": [
    "Sure enough, the center of this distribution is at 2, the lead given by the polls. But many values are negative as well, meaning that Clinton doesn't always win (again, assuming the actual voters splt 46-44, as this poll suggests.)\n",
    "\n",
    "Let's see how often Trump wins, according to this model"
   ]
  },
  {
   "cell_type": "code",
   "execution_count": 23,
   "metadata": {},
   "outputs": [
    {
     "data": {
      "text/plain": [
       "0.14599999999999999"
      ]
     },
     "execution_count": 23,
     "metadata": {},
     "output_type": "execute_result"
    }
   ],
   "source": [
    "(np.random.normal(mean, stddev, 1000) < 0).mean()"
   ]
  },
  {
   "cell_type": "markdown",
   "metadata": {},
   "source": [
    "So about 24% according to this model. This makes sense becuase the margin of error (2.8%) is pretty wide relative to the difference between the polls (2%) \n",
    "\n",
    "If we run the simulation again, we'll get slightly different results."
   ]
  },
  {
   "cell_type": "code",
   "execution_count": 12,
   "metadata": {},
   "outputs": [
    {
     "data": {
      "image/png": "[encoded data removed]",
      "text/plain": [
       "<Figure size 432x288 with 1 Axes>"
      ]
     },
     "metadata": {},
     "output_type": "display_data"
    }
   ],
   "source": [
    "results = np.random.normal(mean, stddev, 1000)\n",
    "plt.hist(results, bins=20);"
   ]
  },
  {
   "cell_type": "code",
   "execution_count": 13,
   "metadata": {},
   "outputs": [
    {
     "data": {
      "text/plain": [
       "0.14599999999999999"
      ]
     },
     "execution_count": 13,
     "metadata": {},
     "output_type": "execute_result"
    }
   ],
   "source": [
    "(results < 0).mean()"
   ]
  },
  {
   "cell_type": "markdown",
   "metadata": {},
   "source": [
    "The more samples we take, the less variation we'll see in this number. To demonstrate this, let's plot a histogram of the results for various numbers of samples."
   ]
  },
  {
   "cell_type": "code",
   "execution_count": 14,
   "metadata": {},
   "outputs": [
    {
     "data": {
      "image/png": "[encoded data removed]",
      "text/plain": [
       "<Figure size 432x288 with 1 Axes>"
      ]
     },
     "metadata": {},
     "output_type": "display_data"
    },
    {
     "data": {
      "image/png": "[encoded data removed]",
      "text/plain": [
       "<Figure size 432x288 with 1 Axes>"
      ]
     },
     "metadata": {},
     "output_type": "display_data"
    },
    {
     "data": {
      "image/png": "[encoded data removed]",
      "text/plain": [
       "<Figure size 432x288 with 1 Axes>"
      ]
     },
     "metadata": {},
     "output_type": "display_data"
    },
    {
     "data": {
      "image/png": "[encoded data removed]",
      "text/plain": [
       "<Figure size 432x288 with 1 Axes>"
      ]
     },
     "metadata": {},
     "output_type": "display_data"
    }
   ],
   "source": [
    "plt.hist(np.random.normal(mean, stddev, 100), bins=20, density=True)\n",
    "plt.title('100 samples')\n",
    "plt.show()\n",
    "plt.hist(np.random.normal(mean, stddev, 1000), bins=20, density=True)\n",
    "plt.title('1,000 samples')\n",
    "plt.show()\n",
    "plt.hist(np.random.normal(mean, stddev, 10000), bins=20, density=True)\n",
    "plt.title('10,000 samples')\n",
    "plt.show()\n",
    "plt.hist(np.random.normal(mean, stddev, 100000), bins=20, density=True)\n",
    "plt.title('100,000 samples')\n",
    "plt.show()"
   ]
  },
  {
   "cell_type": "markdown",
   "metadata": {},
   "source": [
    "We can get a reliable win percentage by counting the wins in a large sample:"
   ]
  },
  {
   "cell_type": "code",
   "execution_count": null,
   "metadata": {
    "collapsed": true
   },
   "outputs": [],
   "source": []
  },
  {
   "cell_type": "markdown",
   "metadata": {},
   "source": [
    "## Part 2: The Electoral college\n",
    "This shows how to interpret the uncertainty in a single poll -- at least the uncertainty in the margin of error. There are two major directions to go from here:\n",
    "\n",
    "1) In a real election prediction model, we would combine all the polls according to a weighted average of poll reliability. What \"reliability\" really means is how well the poll matched (predicted) previous election results. We can figure out the optimal combination of poll weights using, for example, linear regression.\n",
    "\n",
    "2) The US uses an electoral college system, where each state contributes a fixed number of votes (out of a total of 538). We definitely need to simulate that to get anything like a reasonable election prediction.\n",
    "\n",
    "So for the next step, let's see how to combine polls in the electoral college.\n",
    "\n",
    "Our first task will be to pick out one poll in each state. We'll use the last dated \"Likely Voter\" poll."
   ]
  },
  {
   "cell_type": "code",
   "execution_count": 41,
   "metadata": {
    "collapsed": true
   },
   "outputs": [],
   "source": [
    "# Load a CSV of electoral college votes for each state. \n",
    "# Ref: https://www.archives.gov/federal-register/electoral-college/allocation.html\n",
    "states = pd.read_csv('data/states.csv')\n"
   ]
  },
  {
   "cell_type": "code",
   "execution_count": 43,
   "metadata": {},
   "outputs": [
    {
     "data": {
      "text/html": [
       "<div>\n",
       "<style>\n",
       "    .dataframe thead tr:only-child th {\n",
       "        text-align: right;\n",
       "    }\n",
       "\n",
       "    .dataframe thead th {\n",
       "        text-align: left;\n",
       "    }\n",
       "\n",
       "    .dataframe tbody tr th {\n",
       "        vertical-align: top;\n",
       "    }\n",
       "</style>\n",
       "<table border=\"1\" class=\"dataframe\">\n",
       "  <thead>\n",
       "    <tr style=\"text-align: right;\">\n",
       "      <th></th>\n",
       "      <th>name</th>\n",
       "      <th>abbr</th>\n",
       "      <th>electoral_votes</th>\n",
       "      <th>Trump</th>\n",
       "      <th>Clinton</th>\n",
       "      <th>margin_of_error</th>\n",
       "    </tr>\n",
       "    <tr>\n",
       "      <th>abbr</th>\n",
       "      <th></th>\n",
       "      <th></th>\n",
       "      <th></th>\n",
       "      <th></th>\n",
       "      <th></th>\n",
       "      <th></th>\n",
       "    </tr>\n",
       "  </thead>\n",
       "  <tbody>\n",
       "    <tr>\n",
       "      <th>AL</th>\n",
       "      <td>Alabama</td>\n",
       "      <td>AL</td>\n",
       "      <td>9</td>\n",
       "      <td>NaN</td>\n",
       "      <td>NaN</td>\n",
       "      <td>NaN</td>\n",
       "    </tr>\n",
       "    <tr>\n",
       "      <th>AK</th>\n",
       "      <td>Alaska</td>\n",
       "      <td>AK</td>\n",
       "      <td>3</td>\n",
       "      <td>NaN</td>\n",
       "      <td>NaN</td>\n",
       "      <td>NaN</td>\n",
       "    </tr>\n",
       "    <tr>\n",
       "      <th>AZ</th>\n",
       "      <td>Arizona</td>\n",
       "      <td>AZ</td>\n",
       "      <td>11</td>\n",
       "      <td>NaN</td>\n",
       "      <td>NaN</td>\n",
       "      <td>NaN</td>\n",
       "    </tr>\n",
       "    <tr>\n",
       "      <th>AR</th>\n",
       "      <td>Arkansas</td>\n",
       "      <td>AR</td>\n",
       "      <td>6</td>\n",
       "      <td>NaN</td>\n",
       "      <td>NaN</td>\n",
       "      <td>NaN</td>\n",
       "    </tr>\n",
       "    <tr>\n",
       "      <th>CA</th>\n",
       "      <td>California</td>\n",
       "      <td>CA</td>\n",
       "      <td>55</td>\n",
       "      <td>NaN</td>\n",
       "      <td>NaN</td>\n",
       "      <td>NaN</td>\n",
       "    </tr>\n",
       "    <tr>\n",
       "      <th>CO</th>\n",
       "      <td>Colorado</td>\n",
       "      <td>CO</td>\n",
       "      <td>9</td>\n",
       "      <td>NaN</td>\n",
       "      <td>NaN</td>\n",
       "      <td>NaN</td>\n",
       "    </tr>\n",
       "    <tr>\n",
       "      <th>CT</th>\n",
       "      <td>Connecticut</td>\n",
       "      <td>CT</td>\n",
       "      <td>7</td>\n",
       "      <td>NaN</td>\n",
       "      <td>NaN</td>\n",
       "      <td>NaN</td>\n",
       "    </tr>\n",
       "    <tr>\n",
       "      <th>DE</th>\n",
       "      <td>Delaware</td>\n",
       "      <td>DE</td>\n",
       "      <td>3</td>\n",
       "      <td>NaN</td>\n",
       "      <td>NaN</td>\n",
       "      <td>NaN</td>\n",
       "    </tr>\n",
       "    <tr>\n",
       "      <th>FL</th>\n",
       "      <td>Florida</td>\n",
       "      <td>FL</td>\n",
       "      <td>29</td>\n",
       "      <td>NaN</td>\n",
       "      <td>NaN</td>\n",
       "      <td>NaN</td>\n",
       "    </tr>\n",
       "    <tr>\n",
       "      <th>GA</th>\n",
       "      <td>Georgia</td>\n",
       "      <td>GA</td>\n",
       "      <td>16</td>\n",
       "      <td>NaN</td>\n",
       "      <td>NaN</td>\n",
       "      <td>NaN</td>\n",
       "    </tr>\n",
       "    <tr>\n",
       "      <th>HI</th>\n",
       "      <td>Hawaii</td>\n",
       "      <td>HI</td>\n",
       "      <td>4</td>\n",
       "      <td>NaN</td>\n",
       "      <td>NaN</td>\n",
       "      <td>NaN</td>\n",
       "    </tr>\n",
       "    <tr>\n",
       "      <th>ID</th>\n",
       "      <td>Idaho</td>\n",
       "      <td>ID</td>\n",
       "      <td>4</td>\n",
       "      <td>NaN</td>\n",
       "      <td>NaN</td>\n",
       "      <td>NaN</td>\n",
       "    </tr>\n",
       "    <tr>\n",
       "      <th>IL</th>\n",
       "      <td>Illinois</td>\n",
       "      <td>IL</td>\n",
       "      <td>20</td>\n",
       "      <td>NaN</td>\n",
       "      <td>NaN</td>\n",
       "      <td>NaN</td>\n",
       "    </tr>\n",
       "    <tr>\n",
       "      <th>IN</th>\n",
       "      <td>Indiana</td>\n",
       "      <td>IN</td>\n",
       "      <td>11</td>\n",
       "      <td>NaN</td>\n",
       "      <td>NaN</td>\n",
       "      <td>NaN</td>\n",
       "    </tr>\n",
       "    <tr>\n",
       "      <th>IA</th>\n",
       "      <td>Iowa</td>\n",
       "      <td>IA</td>\n",
       "      <td>6</td>\n",
       "      <td>NaN</td>\n",
       "      <td>NaN</td>\n",
       "      <td>NaN</td>\n",
       "    </tr>\n",
       "    <tr>\n",
       "      <th>KS</th>\n",
       "      <td>Kansas</td>\n",
       "      <td>KS</td>\n",
       "      <td>6</td>\n",
       "      <td>NaN</td>\n",
       "      <td>NaN</td>\n",
       "      <td>NaN</td>\n",
       "    </tr>\n",
       "    <tr>\n",
       "      <th>KY</th>\n",
       "      <td>Kentucky</td>\n",
       "      <td>KY</td>\n",
       "      <td>8</td>\n",
       "      <td>NaN</td>\n",
       "      <td>NaN</td>\n",
       "      <td>NaN</td>\n",
       "    </tr>\n",
       "    <tr>\n",
       "      <th>LA</th>\n",
       "      <td>Louisiana</td>\n",
       "      <td>LA</td>\n",
       "      <td>8</td>\n",
       "      <td>NaN</td>\n",
       "      <td>NaN</td>\n",
       "      <td>NaN</td>\n",
       "    </tr>\n",
       "    <tr>\n",
       "      <th>ME</th>\n",
       "      <td>Maine</td>\n",
       "      <td>ME</td>\n",
       "      <td>4</td>\n",
       "      <td>NaN</td>\n",
       "      <td>NaN</td>\n",
       "      <td>NaN</td>\n",
       "    </tr>\n",
       "    <tr>\n",
       "      <th>MD</th>\n",
       "      <td>Maryland</td>\n",
       "      <td>MD</td>\n",
       "      <td>10</td>\n",
       "      <td>NaN</td>\n",
       "      <td>NaN</td>\n",
       "      <td>NaN</td>\n",
       "    </tr>\n",
       "    <tr>\n",
       "      <th>MA</th>\n",
       "      <td>Massachusetts</td>\n",
       "      <td>MA</td>\n",
       "      <td>11</td>\n",
       "      <td>NaN</td>\n",
       "      <td>NaN</td>\n",
       "      <td>NaN</td>\n",
       "    </tr>\n",
       "    <tr>\n",
       "      <th>MI</th>\n",
       "      <td>Michigan</td>\n",
       "      <td>MI</td>\n",
       "      <td>16</td>\n",
       "      <td>NaN</td>\n",
       "      <td>NaN</td>\n",
       "      <td>NaN</td>\n",
       "    </tr>\n",
       "    <tr>\n",
       "      <th>MN</th>\n",
       "      <td>Minnesota</td>\n",
       "      <td>MN</td>\n",
       "      <td>10</td>\n",
       "      <td>NaN</td>\n",
       "      <td>NaN</td>\n",
       "      <td>NaN</td>\n",
       "    </tr>\n",
       "    <tr>\n",
       "      <th>MS</th>\n",
       "      <td>Mississippi</td>\n",
       "      <td>MS</td>\n",
       "      <td>6</td>\n",
       "      <td>NaN</td>\n",
       "      <td>NaN</td>\n",
       "      <td>NaN</td>\n",
       "    </tr>\n",
       "    <tr>\n",
       "      <th>MO</th>\n",
       "      <td>Missouri</td>\n",
       "      <td>MO</td>\n",
       "      <td>10</td>\n",
       "      <td>NaN</td>\n",
       "      <td>NaN</td>\n",
       "      <td>NaN</td>\n",
       "    </tr>\n",
       "    <tr>\n",
       "      <th>MT</th>\n",
       "      <td>Montana</td>\n",
       "      <td>MT</td>\n",
       "      <td>3</td>\n",
       "      <td>NaN</td>\n",
       "      <td>NaN</td>\n",
       "      <td>NaN</td>\n",
       "    </tr>\n",
       "    <tr>\n",
       "      <th>NE</th>\n",
       "      <td>Nebraska</td>\n",
       "      <td>NE</td>\n",
       "      <td>5</td>\n",
       "      <td>NaN</td>\n",
       "      <td>NaN</td>\n",
       "      <td>NaN</td>\n",
       "    </tr>\n",
       "    <tr>\n",
       "      <th>NV</th>\n",
       "      <td>Nevada</td>\n",
       "      <td>NV</td>\n",
       "      <td>6</td>\n",
       "      <td>NaN</td>\n",
       "      <td>NaN</td>\n",
       "      <td>NaN</td>\n",
       "    </tr>\n",
       "    <tr>\n",
       "      <th>NH</th>\n",
       "      <td>New Hampshire</td>\n",
       "      <td>NH</td>\n",
       "      <td>4</td>\n",
       "      <td>NaN</td>\n",
       "      <td>NaN</td>\n",
       "      <td>NaN</td>\n",
       "    </tr>\n",
       "    <tr>\n",
       "      <th>NJ</th>\n",
       "      <td>New Jersey</td>\n",
       "      <td>NJ</td>\n",
       "      <td>14</td>\n",
       "      <td>NaN</td>\n",
       "      <td>NaN</td>\n",
       "      <td>NaN</td>\n",
       "    </tr>\n",
       "    <tr>\n",
       "      <th>NM</th>\n",
       "      <td>New Mexico</td>\n",
       "      <td>NM</td>\n",
       "      <td>5</td>\n",
       "      <td>NaN</td>\n",
       "      <td>NaN</td>\n",
       "      <td>NaN</td>\n",
       "    </tr>\n",
       "    <tr>\n",
       "      <th>NY</th>\n",
       "      <td>New York</td>\n",
       "      <td>NY</td>\n",
       "      <td>29</td>\n",
       "      <td>NaN</td>\n",
       "      <td>NaN</td>\n",
       "      <td>NaN</td>\n",
       "    </tr>\n",
       "    <tr>\n",
       "      <th>NC</th>\n",
       "      <td>North Carolina</td>\n",
       "      <td>NC</td>\n",
       "      <td>15</td>\n",
       "      <td>NaN</td>\n",
       "      <td>NaN</td>\n",
       "      <td>NaN</td>\n",
       "    </tr>\n",
       "    <tr>\n",
       "      <th>ND</th>\n",
       "      <td>North Dakota</td>\n",
       "      <td>ND</td>\n",
       "      <td>3</td>\n",
       "      <td>NaN</td>\n",
       "      <td>NaN</td>\n",
       "      <td>NaN</td>\n",
       "    </tr>\n",
       "    <tr>\n",
       "      <th>OH</th>\n",
       "      <td>Ohio</td>\n",
       "      <td>OH</td>\n",
       "      <td>18</td>\n",
       "      <td>NaN</td>\n",
       "      <td>NaN</td>\n",
       "      <td>NaN</td>\n",
       "    </tr>\n",
       "    <tr>\n",
       "      <th>OK</th>\n",
       "      <td>Oklahoma</td>\n",
       "      <td>OK</td>\n",
       "      <td>7</td>\n",
       "      <td>NaN</td>\n",
       "      <td>NaN</td>\n",
       "      <td>NaN</td>\n",
       "    </tr>\n",
       "    <tr>\n",
       "      <th>OR</th>\n",
       "      <td>Oregon</td>\n",
       "      <td>OR</td>\n",
       "      <td>7</td>\n",
       "      <td>NaN</td>\n",
       "      <td>NaN</td>\n",
       "      <td>NaN</td>\n",
       "    </tr>\n",
       "    <tr>\n",
       "      <th>PA</th>\n",
       "      <td>Pennsylvania</td>\n",
       "      <td>PA</td>\n",
       "      <td>20</td>\n",
       "      <td>NaN</td>\n",
       "      <td>NaN</td>\n",
       "      <td>NaN</td>\n",
       "    </tr>\n",
       "    <tr>\n",
       "      <th>RI</th>\n",
       "      <td>Rhode Island</td>\n",
       "      <td>RI</td>\n",
       "      <td>4</td>\n",
       "      <td>NaN</td>\n",
       "      <td>NaN</td>\n",
       "      <td>NaN</td>\n",
       "    </tr>\n",
       "    <tr>\n",
       "      <th>SC</th>\n",
       "      <td>South Carolina</td>\n",
       "      <td>SC</td>\n",
       "      <td>9</td>\n",
       "      <td>NaN</td>\n",
       "      <td>NaN</td>\n",
       "      <td>NaN</td>\n",
       "    </tr>\n",
       "    <tr>\n",
       "      <th>SD</th>\n",
       "      <td>South Dakota</td>\n",
       "      <td>SD</td>\n",
       "      <td>3</td>\n",
       "      <td>NaN</td>\n",
       "      <td>NaN</td>\n",
       "      <td>NaN</td>\n",
       "    </tr>\n",
       "    <tr>\n",
       "      <th>TN</th>\n",
       "      <td>Tennessee</td>\n",
       "      <td>TN</td>\n",
       "      <td>11</td>\n",
       "      <td>NaN</td>\n",
       "      <td>NaN</td>\n",
       "      <td>NaN</td>\n",
       "    </tr>\n",
       "    <tr>\n",
       "      <th>TX</th>\n",
       "      <td>Texas</td>\n",
       "      <td>TX</td>\n",
       "      <td>38</td>\n",
       "      <td>NaN</td>\n",
       "      <td>NaN</td>\n",
       "      <td>NaN</td>\n",
       "    </tr>\n",
       "    <tr>\n",
       "      <th>UT</th>\n",
       "      <td>Utah</td>\n",
       "      <td>UT</td>\n",
       "      <td>6</td>\n",
       "      <td>NaN</td>\n",
       "      <td>NaN</td>\n",
       "      <td>NaN</td>\n",
       "    </tr>\n",
       "    <tr>\n",
       "      <th>VT</th>\n",
       "      <td>Vermont</td>\n",
       "      <td>VT</td>\n",
       "      <td>3</td>\n",
       "      <td>NaN</td>\n",
       "      <td>NaN</td>\n",
       "      <td>NaN</td>\n",
       "    </tr>\n",
       "    <tr>\n",
       "      <th>VA</th>\n",
       "      <td>Virginia</td>\n",
       "      <td>VA</td>\n",
       "      <td>13</td>\n",
       "      <td>NaN</td>\n",
       "      <td>NaN</td>\n",
       "      <td>NaN</td>\n",
       "    </tr>\n",
       "    <tr>\n",
       "      <th>WA</th>\n",
       "      <td>Washington</td>\n",
       "      <td>WA</td>\n",
       "      <td>12</td>\n",
       "      <td>NaN</td>\n",
       "      <td>NaN</td>\n",
       "      <td>NaN</td>\n",
       "    </tr>\n",
       "    <tr>\n",
       "      <th>WV</th>\n",
       "      <td>West Virginia</td>\n",
       "      <td>WV</td>\n",
       "      <td>5</td>\n",
       "      <td>NaN</td>\n",
       "      <td>NaN</td>\n",
       "      <td>NaN</td>\n",
       "    </tr>\n",
       "    <tr>\n",
       "      <th>WI</th>\n",
       "      <td>Wisconsin</td>\n",
       "      <td>WI</td>\n",
       "      <td>10</td>\n",
       "      <td>NaN</td>\n",
       "      <td>NaN</td>\n",
       "      <td>NaN</td>\n",
       "    </tr>\n",
       "    <tr>\n",
       "      <th>WY</th>\n",
       "      <td>Wyoming</td>\n",
       "      <td>WY</td>\n",
       "      <td>3</td>\n",
       "      <td>NaN</td>\n",
       "      <td>NaN</td>\n",
       "      <td>NaN</td>\n",
       "    </tr>\n",
       "  </tbody>\n",
       "</table>\n",
       "</div>"
      ],
      "text/plain": [
       "                name abbr  electoral_votes  Trump  Clinton  margin_of_error\n",
       "abbr                                                                       \n",
       "AL           Alabama   AL                9    NaN      NaN              NaN\n",
       "AK            Alaska   AK                3    NaN      NaN              NaN\n",
       "AZ           Arizona   AZ               11    NaN      NaN              NaN\n",
       "AR          Arkansas   AR                6    NaN      NaN              NaN\n",
       "CA        California   CA               55    NaN      NaN              NaN\n",
       "CO          Colorado   CO                9    NaN      NaN              NaN\n",
       "CT       Connecticut   CT                7    NaN      NaN              NaN\n",
       "DE          Delaware   DE                3    NaN      NaN              NaN\n",
       "FL           Florida   FL               29    NaN      NaN              NaN\n",
       "GA           Georgia   GA               16    NaN      NaN              NaN\n",
       "HI            Hawaii   HI                4    NaN      NaN              NaN\n",
       "ID             Idaho   ID                4    NaN      NaN              NaN\n",
       "IL          Illinois   IL               20    NaN      NaN              NaN\n",
       "IN           Indiana   IN               11    NaN      NaN              NaN\n",
       "IA              Iowa   IA                6    NaN      NaN              NaN\n",
       "KS            Kansas   KS                6    NaN      NaN              NaN\n",
       "KY          Kentucky   KY                8    NaN      NaN              NaN\n",
       "LA         Louisiana   LA                8    NaN      NaN              NaN\n",
       "ME             Maine   ME                4    NaN      NaN              NaN\n",
       "MD          Maryland   MD               10    NaN      NaN              NaN\n",
       "MA     Massachusetts   MA               11    NaN      NaN              NaN\n",
       "MI          Michigan   MI               16    NaN      NaN              NaN\n",
       "MN         Minnesota   MN               10    NaN      NaN              NaN\n",
       "MS       Mississippi   MS                6    NaN      NaN              NaN\n",
       "MO          Missouri   MO               10    NaN      NaN              NaN\n",
       "MT           Montana   MT                3    NaN      NaN              NaN\n",
       "NE          Nebraska   NE                5    NaN      NaN              NaN\n",
       "NV            Nevada   NV                6    NaN      NaN              NaN\n",
       "NH     New Hampshire   NH                4    NaN      NaN              NaN\n",
       "NJ        New Jersey   NJ               14    NaN      NaN              NaN\n",
       "NM        New Mexico   NM                5    NaN      NaN              NaN\n",
       "NY          New York   NY               29    NaN      NaN              NaN\n",
       "NC    North Carolina   NC               15    NaN      NaN              NaN\n",
       "ND      North Dakota   ND                3    NaN      NaN              NaN\n",
       "OH              Ohio   OH               18    NaN      NaN              NaN\n",
       "OK          Oklahoma   OK                7    NaN      NaN              NaN\n",
       "OR            Oregon   OR                7    NaN      NaN              NaN\n",
       "PA      Pennsylvania   PA               20    NaN      NaN              NaN\n",
       "RI      Rhode Island   RI                4    NaN      NaN              NaN\n",
       "SC    South Carolina   SC                9    NaN      NaN              NaN\n",
       "SD      South Dakota   SD                3    NaN      NaN              NaN\n",
       "TN         Tennessee   TN               11    NaN      NaN              NaN\n",
       "TX             Texas   TX               38    NaN      NaN              NaN\n",
       "UT              Utah   UT                6    NaN      NaN              NaN\n",
       "VT           Vermont   VT                3    NaN      NaN              NaN\n",
       "VA          Virginia   VA               13    NaN      NaN              NaN\n",
       "WA        Washington   WA               12    NaN      NaN              NaN\n",
       "WV     West Virginia   WV                5    NaN      NaN              NaN\n",
       "WI         Wisconsin   WI               10    NaN      NaN              NaN\n",
       "WY           Wyoming   WY                3    NaN      NaN              NaN"
      ]
     },
     "execution_count": 43,
     "metadata": {},
     "output_type": "execute_result"
    }
   ],
   "source": [
    "# We'll use a little Pandas trick to make merging in the poll data easier: \n",
    "# set the index to the abbreviation\n",
    "states = states.set_index(states.abbr)\n",
    "\n",
    "# And add the columns we'll need: Trump, Clinton, margin_of_error, all initially blank\n",
    "states['Trump'] = np.NaN\n",
    "states['Clinton'] = np.NaN\n",
    "states['margin_of_error'] = np.NaN\n",
    "\n",
    "states = states[states.abbr != 'DC']"
   ]
  },
  {
   "cell_type": "code",
   "execution_count": 37,
   "metadata": {
    "collapsed": true
   },
   "outputs": [],
   "source": [
    "# Not all polls have reported margins of error, but we can figure it out if we know the number of people surveyed.\n",
    "# This function salculate the 95% margin of error, using the classic formula. \n",
    "# Ref: https://onlinecourses.science.psu.edu/stat100/node/56/\n",
    "def calc_moe(sample_size, proportion):\n",
    "    return 100 * 1.96 * math.sqrt((proportion*(1-proportion)/sample_size))"
   ]
  },
  {
   "cell_type": "code",
   "execution_count": 47,
   "metadata": {
    "collapsed": true
   },
   "outputs": [],
   "source": [
    "# Now we'll load polls for each state and pick one poll\n",
    "for abbr in states.abbr: \n",
    "    polls = pd.read_csv('data/' + abbr + '.tsv', sep='\\t')\n",
    "    polls = polls[polls.sample_subpopulation == 'Likely Voters']\n",
    "    poll = polls.tail(1).squeeze() \n",
    "\n",
    "    states.loc[abbr,'Trump'] = poll.Trump\n",
    "    states.loc[abbr,'Clinton'] = poll.Clinton\n",
    "\n",
    "    # There may be no MOE reported for this poll. If not, calculate it\n",
    "    moe = poll.margin_of_error\n",
    "    if pd.isnull(moe):\n",
    "        proportion = poll.Trump / 100  # or Clinton, will give nearly same result \n",
    "        moe = calc_moe(poll.observations, proportion)\n",
    "\n",
    "    states.loc[abbr,'margin_of_error'] = moe"
   ]
  },
  {
   "cell_type": "markdown",
   "metadata": {},
   "source": [
    "Now we simulate an election by drawing a sample from each state election indpendently, then tallying the electoral college votes. Instead of looking at the distribution of Clinton-Trump vote, we'll just look at the distribution of EC votes for Clinton."
   ]
  },
  {
   "cell_type": "code",
   "execution_count": 62,
   "metadata": {
    "collapsed": true
   },
   "outputs": [],
   "source": [
    "def simulate_election(n_times):\n",
    "    # Start with 3 votes for DC (for which we have no polls, but went solidly Clinton)        \n",
    "    clinton_ec_votes = np.zeros(n_times) + 3 \n",
    "    \n",
    "    # run n_times simulated 'elections' for each state\n",
    "    for abbr in states.abbr:\n",
    "        mean = states['Clinton'][abbr] - states['Trump'][abbr]\n",
    "        stddev = states['margin_of_error'][abbr]\n",
    "        \n",
    "        results = np.random.normal(mean, stddev, n_times)\n",
    "        \n",
    "        # Add ec votes for every election where Clinton won this state\n",
    "        clinton_ec_votes[results>0] += states['electoral_votes'][abbr]\n",
    "    \n",
    "    return clinton_ec_votes"
   ]
  },
  {
   "cell_type": "code",
   "execution_count": 63,
   "metadata": {},
   "outputs": [
    {
     "data": {
      "text/plain": [
       "array([ 365.,  293.,  339.,  302.,  312.,  373.,  287.,  284.,  296.,  312.])"
      ]
     },
     "execution_count": 63,
     "metadata": {},
     "output_type": "execute_result"
    }
   ],
   "source": [
    "# Run 10 simulated elections and look at the results\n",
    "simulate_election(10)"
   ]
  },
  {
   "cell_type": "code",
   "execution_count": 64,
   "metadata": {},
   "outputs": [
    {
     "data": {
      "image/png": "[encoded data removed]",
      "text/plain": [
       "<Figure size 432x288 with 1 Axes>"
      ]
     },
     "metadata": {},
     "output_type": "display_data"
    }
   ],
   "source": [
    "# Run many, many simulated elections and plot histogram of results\n",
    "results = simulate_election(100000)\n",
    "plt.hist(results, bins=range(220, 420, 10), density=True)\n",
    "plt.axvline(270, color='black', linestyle='dashed');"
   ]
  },
  {
   "cell_type": "markdown",
   "metadata": {},
   "source": [
    "To get a Clinton win probability out of this, we can calculate the percentage where she receives 270 or more."
   ]
  },
  {
   "cell_type": "code",
   "execution_count": 65,
   "metadata": {},
   "outputs": [
    {
     "data": {
      "text/plain": [
       "0.86687999999999998"
      ]
     },
     "execution_count": 65,
     "metadata": {},
     "output_type": "execute_result"
    }
   ],
   "source": [
    "(results >= 270).mean()"
   ]
  },
  {
   "cell_type": "markdown",
   "metadata": {},
   "source": [
    "## Part 3: Correlated errors"
   ]
  },
  {
   "cell_type": "code",
   "execution_count": 66,
   "metadata": {},
   "outputs": [
    {
     "data": {
      "text/plain": [
       "array([ 0.46343466,  0.42504052, -2.13544195,  0.62857464,  1.41485492,\n",
       "        0.5109058 ,  1.4126031 ,  0.2540728 , -1.16216505, -0.68903853])"
      ]
     },
     "execution_count": 66,
     "metadata": {},
     "output_type": "execute_result"
    }
   ],
   "source": [
    "# Let's start with some random numbers\n",
    "mean=0\n",
    "stddev=1\n",
    "n=10\n",
    "np.random.normal(mean, stddev, n)"
   ]
  },
  {
   "cell_type": "code",
   "execution_count": 83,
   "metadata": {},
   "outputs": [
    {
     "data": {
      "text/plain": [
       "2.7225077557749442"
      ]
     },
     "execution_count": 83,
     "metadata": {},
     "output_type": "execute_result"
    }
   ],
   "source": [
    "# Sum of these random numbers\n",
    "np.random.normal(mean, stddev, n).sum()"
   ]
  },
  {
   "cell_type": "code",
   "execution_count": 84,
   "metadata": {
    "collapsed": true
   },
   "outputs": [],
   "source": [
    "def plot_distribution_of_sums(make_a_sum_function, n_times):\n",
    "    sums = pd.DataFrame(np.zeros(n_times))\n",
    "    sums = sums.applymap(make_a_sum_function)\n",
    "    sums.plot(kind='hist', bins=20)\n",
    "    print(\"standard deviation\")\n",
    "    print(float(sums.std()))\n",
    "    "
   ]
  },
  {
   "cell_type": "code",
   "execution_count": 85,
   "metadata": {
    "scrolled": true
   },
   "outputs": [
    {
     "name": "stdout",
     "output_type": "stream",
     "text": [
      "standard deviation\n",
      "3.176459754571901\n"
     ]
    },
    {
     "data": {
      "image/png": "[encoded data removed]",
      "text/plain": [
       "<Figure size 432x288 with 1 Axes>"
      ]
     },
     "metadata": {},
     "output_type": "display_data"
    }
   ],
   "source": [
    "# If take the sum of these random numbers 1000 times, what do we get?\n",
    "def uncorrelated_sum(dummy):\n",
    "    return np.random.normal(mean, stddev, n).sum()\n",
    "plot_distribution_of_sums(uncorrelated_sum, 10000)"
   ]
  },
  {
   "cell_type": "markdown",
   "metadata": {},
   "source": [
    "But suppose that half of these random numbers were actually the *same* random number..."
   ]
  },
  {
   "cell_type": "code",
   "execution_count": 86,
   "metadata": {
    "collapsed": true
   },
   "outputs": [],
   "source": [
    "def correlated_randoms():\n",
    "    numbers = np.random.normal(mean, stddev, n)\n",
    "    numbers[6:10] = numbers[5]\n",
    "    return numbers"
   ]
  },
  {
   "cell_type": "code",
   "execution_count": 95,
   "metadata": {},
   "outputs": [
    {
     "data": {
      "text/plain": [
       "array([ 0.90525753, -1.51209138, -0.27435613, -0.97697513, -0.26884543,\n",
       "       -0.49968656, -0.49968656, -0.49968656, -0.49968656, -0.49968656])"
      ]
     },
     "execution_count": 95,
     "metadata": {},
     "output_type": "execute_result"
    }
   ],
   "source": [
    "correlated_randoms()"
   ]
  },
  {
   "cell_type": "code",
   "execution_count": 96,
   "metadata": {},
   "outputs": [
    {
     "name": "stdout",
     "output_type": "stream",
     "text": [
      "standard deviation\n",
      "5.461282773904414\n"
     ]
    },
    {
     "data": {
      "image/png": "[encoded data removed]",
      "text/plain": [
       "<Figure size 432x288 with 1 Axes>"
      ]
     },
     "metadata": {},
     "output_type": "display_data"
    }
   ],
   "source": [
    "def correlated_sum(dummmy):\n",
    "    return correlated_randoms().sum()\n",
    "plot_distribution_of_sums(correlated_sum, 10000)"
   ]
  },
  {
   "cell_type": "markdown",
   "metadata": {
    "collapsed": true
   },
   "source": [
    "## Part 4: Elections with correlated errors\n",
    "\n",
    "A poll is meant to tell us how people will vote in an election. But there will be some difference between the last latest polls before an election and the actual election results. According to [this research](http://www.stat.columbia.edu/~gelman/research/unpublished/polling-errors.pdf), US state level presidentail polls in the last three weeks before an election are off by an average of 2%.\n",
    "\n",
    "So we could simply add 2% to our margins of error. But this isn't quite right: when a poll is off in one state, it's often off in other states for similar reasons. The polling error is *correlated.* Not taking into account correlated polling errors were the [biggest reason](https://fivethirtyeight.com/features/election-update-why-our-model-is-more-bullish-than-others-on-trump/) that many 2016 election predictions were so badly off."
   ]
  },
  {
   "cell_type": "markdown",
   "metadata": {},
   "source": [
    "First, let's see what simply doubling the margin of error on every state does. This increases error, but not *correlated* error."
   ]
  },
  {
   "cell_type": "code",
   "execution_count": 99,
   "metadata": {
    "collapsed": true
   },
   "outputs": [],
   "source": [
    "# Helper function to interpret results\n",
    "def plot_results(results):\n",
    "    plt.hist(results, bins=range(150, 500, 10), density=True)\n",
    "    plt.axvline(270, color='black', linestyle='dashed');\n",
    "    print(\"Clinton win probability: \" + str((results>=270).mean()))"
   ]
  },
  {
   "cell_type": "code",
   "execution_count": null,
   "metadata": {
    "collapsed": true
   },
   "outputs": [],
   "source": [
    "\n"
   ]
  },
  {
   "cell_type": "markdown",
   "metadata": {},
   "source": [
    "Instead, we need to add polling error that is similar between states. The simplest way to do this is just to add the same polling error to every state (perfectly correlated across all states!)"
   ]
  },
  {
   "cell_type": "code",
   "execution_count": 97,
   "metadata": {
    "collapsed": true
   },
   "outputs": [],
   "source": [
    "def simulate_election_national_error(n_times, polling_error_stddev):\n",
    "    # Start with 3 votes for DC (for which we have no polls, but went solidly Clinton)        \n",
    "    clinton_ec_votes = np.zeros(n_times) + 3 \n",
    "    \n",
    "    # For each \"election\", add in the same random polling error for every state\n",
    "    polling_errors = np.random.normal(0, polling_error_stddev, n_times)\n",
    "    \n",
    "    # run n_times simulated 'elections' for each state\n",
    "    for abbr in states.abbr:\n",
    "        mean = states['Clinton'][abbr] - states['Trump'][abbr]\n",
    "        stddev = states['margin_of_error'][abbr]\n",
    "        \n",
    "        results = np.random.normal(mean, stddev, n_times)\n",
    "        \n",
    "        results += polling_errors\n",
    "        \n",
    "        # Add ec votes for every election where Clinton won this state\n",
    "        clinton_ec_votes[results>0] += states['electoral_votes'][abbr]\n",
    "    \n",
    "    return clinton_ec_votes"
   ]
  },
  {
   "cell_type": "code",
   "execution_count": 105,
   "metadata": {},
   "outputs": [
    {
     "name": "stdout",
     "output_type": "stream",
     "text": [
      "Clinton win probability: 0.95885\n"
     ]
    },
    {
     "data": {
      "image/png": "[encoded data removed]",
      "text/plain": [
       "<Figure size 432x288 with 1 Axes>"
      ]
     },
     "metadata": {},
     "output_type": "display_data"
    }
   ],
   "source": [
    "# What does the distribution of electoral college outcomes look like with 2% correlated national polling error?\n",
    "national_polling_error_stddev = 0\n",
    "results = simulate_election_national_error(100000, national_polling_error_stddev)\n",
    "plot_results(results)"
   ]
  },
  {
   "cell_type": "code",
   "execution_count": 106,
   "metadata": {},
   "outputs": [
    {
     "data": {
      "text/plain": [
       "0.95176000000000005"
      ]
     },
     "execution_count": 106,
     "metadata": {},
     "output_type": "execute_result"
    }
   ],
   "source": [
    "(results > 270).mean()"
   ]
  },
  {
   "cell_type": "code",
   "execution_count": null,
   "metadata": {
    "collapsed": true
   },
   "outputs": [],
   "source": []
  }
 ],
 "metadata": {
  "kernelspec": {
   "display_name": "Python 3",
   "language": "python",
   "name": "python3"
  },
  "language_info": {
   "codemirror_mode": {
    "name": "ipython",
    "version": 3
   },
   "file_extension": ".py",
   "mimetype": "text/x-python",
   "name": "python",
   "nbconvert_exporter": "python",
   "pygments_lexer": "ipython3",
   "version": "3.6.2"
  }
 },
 "nbformat": 4,
 "nbformat_minor": 2
}
